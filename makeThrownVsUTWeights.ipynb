{
 "cells": [
  {
   "cell_type": "code",
   "execution_count": 1,
   "metadata": {},
   "outputs": [
    {
     "data": {
      "application/javascript": [
       "\n",
       "require(['notebook'],\n",
       "  function() {\n",
       "    IPython.CodeCell.config_defaults.highlight_modes['magic_text/x-c++src'] = {'reg':[/^%%cpp/]};\n",
       "    console.log(\"JupyROOT - %%cpp magic configured\");\n",
       "  }\n",
       ");\n"
      ]
     },
     "metadata": {},
     "output_type": "display_data"
    },
    {
     "name": "stdout",
     "output_type": "stream",
     "text": [
      "Welcome to JupyROOT 6.08/06\n"
     ]
    }
   ],
   "source": [
    "import sys # need to save the stdout, for whatever reason some other module is resetting things\n",
    "stdout=sys.stdout\n",
    "\n",
    "from ROOT import TFile\n",
    "import numpy as np\n",
    "import pandas as pd\n",
    "import matplotlib.pyplot as plt\n",
    "import matplotlib as mpl\n",
    "import seaborn as sns\n",
    "%matplotlib inline"
   ]
  },
  {
   "cell_type": "code",
   "execution_count": 2,
   "metadata": {},
   "outputs": [],
   "source": [
    "reload(sys)\n",
    "sys.stdout = stdout"
   ]
  },
  {
   "cell_type": "markdown",
   "metadata": {},
   "source": [
    "# Load the data"
   ]
  },
  {
   "cell_type": "code",
   "execution_count": 3,
   "metadata": {},
   "outputs": [],
   "source": [
    "weightsFile=TFile.Open(\"degALL_a0a2Test_treeFlat_DSelector_UTweights.root\")\n",
    "nentries=weightsFile.degALL_a0a2Test_tree_flat.GetEntries()\n",
    "UT_weightBS=np.zeros(nentries)\n",
    "UT_equalWeights=np.zeros(nentries)\n",
    "UT_bestChiWeights=np.zeros(nentries)\n",
    "UT_spectBestChiWeights=np.zeros(nentries)\n",
    "UT_spectEqualWeights=np.zeros(nentries)\n",
    "UT_spectProbWeights=np.zeros(nentries)\n",
    "UT_probWeights=np.zeros(nentries)\n",
    "UT_chiSqs=np.zeros(nentries)\n",
    "UT_nonUniqueEventNums=np.zeros(nentries)\n",
    "UT_events=np.zeros(nentries)\n",
    "UT_RFtimes=np.zeros(nentries)\n",
    "UT_whichSignalRegions=np.zeros(nentries)\n",
    "UT_isTruePi0Etas=np.zeros(nentries)\n",
    "UT_beamPhotonMatchToThrowns=np.zeros(nentries)\n",
    "UT_beamIDs=np.zeros(nentries)\n",
    "\n",
    "UT_Mpi0etas=np.zeros(nentries)\n",
    "UT_Mpi0etas_thrown=np.zeros(nentries)\n",
    "UT_Mpi0s=np.zeros(nentries)\n",
    "UT_Metas=np.zeros(nentries)\n",
    "UT_Mpi0etas_meas=np.zeros(nentries)\n",
    "UT_Mpi0s_meas=np.zeros(nentries)\n",
    "UT_Metas_meas=np.zeros(nentries)\n",
    "UT_Mpi0ps=np.zeros(nentries)\n",
    "UT_Metaps=np.zeros(nentries)\n",
    "UT_cosTheta_eta_gjs=np.zeros(nentries)\n",
    "UT_cosTheta_eta_gjs_meas=np.zeros(nentries)\n",
    "\n",
    "\n",
    "UT_AccWeights=np.zeros(nentries)\n",
    "\n",
    "\n",
    "for ievent,event in enumerate(weightsFile.degALL_a0a2Test_tree_flat):\n",
    "    UT_weightBS[ievent]=event.weightBS\n",
    "    UT_equalWeights[ievent]=event.UT_equalWeights\n",
    "    UT_chiSqs[ievent]=event.chiSq\n",
    "    UT_bestChiWeights[ievent]=event.UT_bestChiWeights\n",
    "    UT_spectBestChiWeights[ievent]=event.UT_spectBestChiWeights\n",
    "    UT_spectEqualWeights[ievent]=event.UT_spectEqualWeights\n",
    "    UT_spectProbWeights[ievent]=event.UT_spectProbWeights\n",
    "    UT_probWeights[ievent]=event.UT_probWeights\n",
    "    UT_events[ievent]=event.UT_uniqueEventNumbers\n",
    "    UT_nonUniqueEventNums[ievent]=event.event\n",
    "    UT_RFtimes[ievent]=event.rfTime\n",
    "    UT_whichSignalRegions[ievent]=event.whichSignalRegion\n",
    "    UT_isTruePi0Etas[ievent]=event.isTruePi0Eta\n",
    "    UT_beamPhotonMatchToThrowns[ievent]=event.beamPhotonMatchToThrown\n",
    "    UT_beamIDs[ievent]=event.beamID\n",
    "    UT_cosTheta_eta_gjs[ievent]=event.cosTheta_eta_gj\n",
    "    UT_cosTheta_eta_gjs_meas[ievent]=event.cosTheta_eta_gj_meas\n",
    "    \n",
    "    UT_Mpi0etas[ievent]=event.Mpi0eta\n",
    "    UT_Mpi0etas_thrown[ievent]=event.Mpi0eta_thrown\n",
    "    UT_Mpi0etas_meas[ievent]=event.Mpi0eta_meas\n",
    "    UT_Mpi0s[ievent]=event.Mpi0\n",
    "    UT_Mpi0s_meas[ievent]=event.Mpi0_meas\n",
    "    UT_Metas[ievent]=event.Meta\n",
    "    UT_Metas_meas[ievent]=event.Meta_meas\n",
    "    UT_Mpi0ps[ievent]=event.Mpi0p\n",
    "    UT_Metaps[ievent]=event.Metap\n",
    "    UT_AccWeights[ievent]=event.AccWeight"
   ]
  },
  {
   "cell_type": "code",
   "execution_count": 4,
   "metadata": {},
   "outputs": [],
   "source": [
    "weightsDict={\"equalWeights\":UT_equalWeights,\n",
    "             \"weightBS\":UT_weightBS,\n",
    "             \"chiSqs\":UT_chiSqs,\n",
    "             \"bestChiWeights\":UT_bestChiWeights,\n",
    "             \"spectBestChiWeights\":UT_spectBestChiWeights,\n",
    "             \"spectEqualWeights\":UT_spectEqualWeights,\n",
    "             \"spectProbWeights\":UT_spectProbWeights,\n",
    "             \"probWeights\":UT_probWeights,\n",
    "             \"eventNumber\":UT_events,\n",
    "             \"nonUniqueEventNumber\":UT_nonUniqueEventNums,\n",
    "             \"rfTimes\":UT_RFtimes,\n",
    "             \"whichSignalRegions\":UT_whichSignalRegions,\n",
    "             \"isTruePi0Etas\":UT_isTruePi0Etas,\n",
    "             \"beamPhotonMatchToThrowns\":UT_beamPhotonMatchToThrowns,\n",
    "             \"beamIDs\":UT_beamIDs,\n",
    "             \"cosTheta_eta_gjs\":UT_cosTheta_eta_gjs,\n",
    "             \"cosTheta_eta_gjs_meas\":UT_cosTheta_eta_gjs_meas,\n",
    "             \"Mpi0eta_thrown\":UT_Mpi0etas_thrown,\n",
    "             \"Mpi0etas\":UT_Mpi0etas,\n",
    "             \"Mpi0etas_meas\":UT_Mpi0etas_meas,\n",
    "             \"Mpi0s\":UT_Mpi0s,\n",
    "             \"Mpi0s_meas\":UT_Mpi0s_meas,\n",
    "             \"Metas\":UT_Metas,\n",
    "             \"Metas_meas\":UT_Metas_meas,\n",
    "             \"Mpi0ps\":UT_Mpi0ps,\n",
    "             \"Metaps\":UT_Metaps,\n",
    "             \"AccWeights\":UT_AccWeights\n",
    "            }\n",
    "df_weightsData=pd.DataFrame(weightsDict)"
   ]
  },
  {
   "cell_type": "code",
   "execution_count": 5,
   "metadata": {},
   "outputs": [],
   "source": [
    "# Convert to bools\n",
    "df_weightsData.beamPhotonMatchToThrowns=df_weightsData.beamPhotonMatchToThrowns.astype(bool)\n",
    "df_weightsData.isTruePi0Etas=df_weightsData.isTruePi0Etas.astype(bool)\n",
    "\n",
    "# Fill nan values to 0. This is from getting the p-values for large chiSqs.\n",
    "df_weightsData.probWeights=df_weightsData.probWeights.fillna(0)"
   ]
  },
  {
   "cell_type": "markdown",
   "metadata": {},
   "source": [
    "# Load the thrown information"
   ]
  },
  {
   "cell_type": "code",
   "execution_count": 6,
   "metadata": {},
   "outputs": [],
   "source": [
    "# weightsFile=TFile.Open(\"degALL_a0a2Test_tree_DSelector.root\")\n",
    "# nentries=weightsFile.pi0eta__B4_M17_M7_Tree.GetEntries()\n",
    "# thrown_Mpi0etas=np.zeros(nentries)\n",
    "# thrown_events=np.zeros(nentries)\n",
    "\n",
    "# for ievent,event in enumerate(weightsFile.pi0eta__B4_M17_M7_Tree):\n",
    "#     thrown_Mpi0etas[ievent]=event.Mpi0eta_thrown\n",
    "#     thrown_events[ievent]=event.EventNumber\n",
    "    \n",
    "# thrownDict={\n",
    "#     \"Mpi0etas\":thrown_Mpi0etas,\n",
    "#     \"events\":thrown_events\n",
    "# }\n",
    "# df_thrownData=pd.DataFrame(thrownDict)"
   ]
  },
  {
   "cell_type": "markdown",
   "metadata": {},
   "source": [
    "# Make some checks"
   ]
  },
  {
   "cell_type": "markdown",
   "metadata": {},
   "source": [
    "## Check number of events in the thrown and recon matches"
   ]
  },
  {
   "cell_type": "markdown",
   "metadata": {},
   "source": [
    "### Make sure the total weight for all the tracking schemes agree"
   ]
  },
  {
   "cell_type": "markdown",
   "metadata": {},
   "source": [
    "We had to do some unscrambling of event numbers due to MC producing multiple events with the same event number. After unscrambling lets see if the maximum event number agrees with the length of the thrownData. In principle the thrown data should have N events which should agree with the max event number after unscrambling"
   ]
  },
  {
   "cell_type": "code",
   "execution_count": 7,
   "metadata": {},
   "outputs": [
    {
     "name": "stdout",
     "output_type": "stream",
     "text": [
      "Weights data max eventNum: 127370.0\n"
     ]
    }
   ],
   "source": [
    "print(\"Weights data max eventNum: {0}\".format(df_weightsData.eventNumber.max()))\n",
    "#print(\"Thrown data length: {0}\".format(len(df_thrownData)))\n",
    "#assert(len(df_thrownData)==df_weightsData.eventNumber.max())\n",
    "# Make sure the events are the same between the two root files\n",
    "#np.prod(np.unique(UT_events)==np.unique(thrown_events))"
   ]
  },
  {
   "cell_type": "markdown",
   "metadata": {},
   "source": [
    "Checking to see if the integrated weights are the same between the 3 different tracking schemes"
   ]
  },
  {
   "cell_type": "code",
   "execution_count": 8,
   "metadata": {},
   "outputs": [
    {
     "name": "stdout",
     "output_type": "stream",
     "text": [
      "Sum weights = equal: 127370.0, bestChi: 127370.0, prob: 127370.0\n"
     ]
    }
   ],
   "source": [
    "sumWeighted=df_weightsData.equalWeights.sum()\n",
    "sumBestChi=df_weightsData.bestChiWeights.sum()\n",
    "sumProbWeights=df_weightsData.probWeights.sum()\n",
    "\n",
    "#sumThrown=len(df_thrownData[\"Mpi0etas\"])\n",
    "\n",
    "print(\"Sum weights = equal: {0}, bestChi: {1}, prob: {2}\".format(sumWeighted,sumBestChi,sumProbWeights))"
   ]
  },
  {
   "cell_type": "code",
   "execution_count": 9,
   "metadata": {},
   "outputs": [
    {
     "name": "stdout",
     "output_type": "stream",
     "text": [
      "If we include the pValues with that ended with all 0s (due to normalization)we get 127370.0\n",
      "Hopefully the sum is 0: sum=0\n"
     ]
    }
   ],
   "source": [
    "countProbWeights=df_weightsData[[\"equalWeights\",\"bestChiWeights\",\"probWeights\",\n",
    "                                 \"eventNumber\"]].groupby(\"eventNumber\").sum()[\"probWeights\"]\n",
    "countNotOne=len(countProbWeights[abs(countProbWeights-1.0)>0.01])\n",
    "sumNotOne=sum(countProbWeights[abs(countProbWeights-1.0)>0.01])\n",
    "print(\"If we include the pValues with that ended with all 0s (due to normalization)\"\\\n",
    "      \"we get {0}\".format(countNotOne+sumProbWeights))\n",
    "print(\"Hopefully the sum is 0: sum={0}\".format(sumNotOne))\n",
    "\n",
    "# make sure the counts make sense at this point\n",
    "assert(abs(sumWeighted-(countNotOne+sumProbWeights))<0.001)"
   ]
  },
  {
   "cell_type": "markdown",
   "metadata": {},
   "source": [
    "### Make sure the total weight agrees among the spectroscopic tracking scheme"
   ]
  },
  {
   "cell_type": "code",
   "execution_count": 10,
   "metadata": {},
   "outputs": [
    {
     "name": "stdout",
     "output_type": "stream",
     "text": [
      "spectBestChiWeights    290223.0\n",
      "spectEqualWeights      290223.0\n",
      "spectProbWeights       290223.0\n",
      "dtype: float64\n",
      "The remainder of spectProbWeights should have been pValues=0 due to precision of convertingchiSq to pValues. If pValue and Normalization is small then we get a NaN or 0\n",
      "Num beam photons with zero spectProbWeight: 0\n"
     ]
    }
   ],
   "source": [
    "df_weightsDataSubset=df_weightsData[[\"eventNumber\",\"beamIDs\",\"spectBestChiWeights\",\"spectEqualWeights\",\n",
    "                                     \"spectProbWeights\"]]\n",
    "print(df_weightsDataSubset.groupby([\"eventNumber\",\"beamIDs\"]).sum().sum())\n",
    "grouped=df_weightsDataSubset.groupby([\"eventNumber\",\"beamIDs\"]).sum()\n",
    "numBeamWithZeroWeights=(grouped.spectProbWeights==0).sum()\n",
    "print(\"The remainder of spectProbWeights should have been pValues=0 due to precision of converting\"\\\n",
    "     \"chiSq to pValues. If pValue and Normalization is small then we get a NaN or 0\")\n",
    "print(\"Num beam photons with zero spectProbWeight: {0}\".format(numBeamWithZeroWeights))"
   ]
  },
  {
   "cell_type": "markdown",
   "metadata": {},
   "source": [
    "## Checking how accidentals are subtracted in the RF time plot"
   ]
  },
  {
   "cell_type": "code",
   "execution_count": 11,
   "metadata": {},
   "outputs": [
    {
     "data": {
      "image/png": "[encoded data removed]",
      "text/plain": [
       "<Figure size 1008x504 with 2 Axes>"
      ]
     },
     "metadata": {
      "needs_background": "light"
     },
     "output_type": "display_data"
    }
   ],
   "source": [
    "fig,ax=plt.subplots(1,2,figsize=(14,7))\n",
    "counts, binedges=np.histogram(df_weightsData.rfTimes,bins=200)\n",
    "countsTruth=np.histogram(df_weightsData[df_weightsData.beamPhotonMatchToThrowns==True].rfTimes,bins=binedges)[0]\n",
    "plot1=ax[0].hist(df_weightsData.rfTimes,bins=binedges,label=\"Truth+Accidentals\")\n",
    "plot2=ax[0].hist(df_weightsData[df_weightsData.beamPhotonMatchToThrowns==True].rfTimes,\n",
    "                 bins=binedges,label='\"Truth\"')\n",
    "\n",
    "numTrue=sum(df_weightsData.beamPhotonMatchToThrowns==True)\n",
    "numPrompt=len(df_weightsData[(df_weightsData.rfTimes>-2) & (df_weightsData.rfTimes<2)])\n",
    "numAcc=len(df_weightsData[(df_weightsData.rfTimes<-2) | (df_weightsData.rfTimes>2)])\n",
    "\n",
    "ax[0].legend()\n",
    "ax[0].set_xlabel(\"RF time (ns)\",size=16)\n",
    "plot3=ax[1].bar(np.linspace(-18,18,200),height=(plot1[0]-plot2[0]),label='Subtracted \"Truth\"')\n",
    "ax[1].set_xlabel(\"RF time (ns)\",size=16)\n",
    "ax[1].legend()\n",
    "plt.tight_layout()"
   ]
  },
  {
   "cell_type": "markdown",
   "metadata": {},
   "source": [
    "## Checking total number of combos"
   ]
  },
  {
   "cell_type": "code",
   "execution_count": 14,
   "metadata": {},
   "outputs": [
    {
     "data": {
      "text/plain": [
       "Text(0.5,1,'Density plot of combos with True Beam Photons')"
      ]
     },
     "execution_count": 14,
     "metadata": {},
     "output_type": "execute_result"
    },
    {
     "data": {
      "image/png": "[encoded data removed]",
      "text/plain": [
       "<Figure size 1152x576 with 2 Axes>"
      ]
     },
     "metadata": {
      "needs_background": "light"
     },
     "output_type": "display_data"
    }
   ],
   "source": [
    "combosPerEvent=1/df_weightsData.groupby(\"eventNumber\").equalWeights.first()\n",
    "fig,ax = plt.subplots(1,2,figsize=(16,8))\n",
    "ax[0].hist(combosPerEvent,bins=int(combosPerEvent.max()),density=True)\n",
    "ax[0].set_xlabel(\"Number of combos in event\",size=15)\n",
    "ax[0].set_title(\"Density plot of Combos No Selections Applied\",size=15)\n",
    "\n",
    "numSpectCombos=df_weightsData[df_weightsData.beamPhotonMatchToThrowns].eventNumber.value_counts().values\n",
    "ax[1].hist(numSpectCombos,density=True,bins=numSpectCombos.max())\n",
    "ax[1].set_xlabel(\"Number of combos in event\",size=15)\n",
    "ax[1].set_title(\"Density plot of combos with True Beam Photons\",size=15)"
   ]
  },
  {
   "cell_type": "markdown",
   "metadata": {},
   "source": [
    "I suspect that the distribution of the number of unique combos differ between the a0 and a2 cases. The a0 case should have a bunch more combinatorics so we will not have as much events with only 1 or 2 combos."
   ]
  },
  {
   "cell_type": "code",
   "execution_count": 17,
   "metadata": {},
   "outputs": [],
   "source": [
    "numSpectCombos=df_weightsData[df_weightsData.beamPhotonMatchToThrowns].eventNumber.value_counts()"
   ]
  },
  {
   "cell_type": "code",
   "execution_count": 18,
   "metadata": {},
   "outputs": [
    {
     "data": {
      "text/html": [
       "<div>\n",
       "<style scoped>\n",
       "    .dataframe tbody tr th:only-of-type {\n",
       "        vertical-align: middle;\n",
       "    }\n",
       "\n",
       "    .dataframe tbody tr th {\n",
       "        vertical-align: top;\n",
       "    }\n",
       "\n",
       "    .dataframe thead th {\n",
       "        text-align: right;\n",
       "    }\n",
       "</style>\n",
       "<table border=\"1\" class=\"dataframe\">\n",
       "  <thead>\n",
       "    <tr style=\"text-align: right;\">\n",
       "      <th></th>\n",
       "      <th>chiSqs</th>\n",
       "      <th>Metas</th>\n",
       "      <th>Mpi0s</th>\n",
       "      <th>spectProbWeights</th>\n",
       "      <th>spectEqualWeights</th>\n",
       "      <th>beamPhotonMatchToThrowns</th>\n",
       "    </tr>\n",
       "  </thead>\n",
       "  <tbody>\n",
       "    <tr>\n",
       "      <th>320683</th>\n",
       "      <td>2.06217</td>\n",
       "      <td>0.551223</td>\n",
       "      <td>0.128284</td>\n",
       "      <td>0.5</td>\n",
       "      <td>0.5</td>\n",
       "      <td>True</td>\n",
       "    </tr>\n",
       "    <tr>\n",
       "      <th>320684</th>\n",
       "      <td>2.06217</td>\n",
       "      <td>0.673314</td>\n",
       "      <td>0.152353</td>\n",
       "      <td>0.5</td>\n",
       "      <td>0.5</td>\n",
       "      <td>True</td>\n",
       "    </tr>\n",
       "  </tbody>\n",
       "</table>\n",
       "</div>"
      ],
      "text/plain": [
       "         chiSqs     Metas     Mpi0s  spectProbWeights  spectEqualWeights  \\\n",
       "320683  2.06217  0.551223  0.128284               0.5                0.5   \n",
       "320684  2.06217  0.673314  0.152353               0.5                0.5   \n",
       "\n",
       "        beamPhotonMatchToThrowns  \n",
       "320683                      True  \n",
       "320684                      True  "
      ]
     },
     "execution_count": 18,
     "metadata": {},
     "output_type": "execute_result"
    }
   ],
   "source": [
    "twoComboIndicies=numSpectCombos[numSpectCombos==2].index\n",
    "df_weightsDataTrueBeam=df_weightsData[df_weightsData.beamPhotonMatchToThrowns]\n",
    "df_weightsDataTrueBeam[[\"chiSqs\",\"Metas\",\"Mpi0s\",\"spectProbWeights\",\"spectEqualWeights\",\n",
    "                        \"beamPhotonMatchToThrowns\"]][df_weightsDataTrueBeam.eventNumber==twoComboIndicies[4]]"
   ]
  },
  {
   "cell_type": "code",
   "execution_count": 19,
   "metadata": {},
   "outputs": [],
   "source": [
    "singleChiEvents=df_weightsDataTrueBeam.groupby(\"eventNumber\").chiSqs.nunique().eq(1)"
   ]
  },
  {
   "cell_type": "code",
   "execution_count": 20,
   "metadata": {},
   "outputs": [],
   "source": [
    "notSingleChiEvents=df_weightsDataTrueBeam.groupby(\"eventNumber\").chiSqs.nunique().ne(1)"
   ]
  },
  {
   "cell_type": "code",
   "execution_count": 21,
   "metadata": {},
   "outputs": [
    {
     "data": {
      "text/plain": [
       "0.002019109826334488"
      ]
     },
     "execution_count": 21,
     "metadata": {},
     "output_type": "execute_result"
    }
   ],
   "source": [
    "1.*sum(notSingleChiEvents)/sum(singleChiEvents)"
   ]
  },
  {
   "cell_type": "code",
   "execution_count": 22,
   "metadata": {},
   "outputs": [
    {
     "data": {
      "text/html": [
       "<div>\n",
       "<style scoped>\n",
       "    .dataframe tbody tr th:only-of-type {\n",
       "        vertical-align: middle;\n",
       "    }\n",
       "\n",
       "    .dataframe tbody tr th {\n",
       "        vertical-align: top;\n",
       "    }\n",
       "\n",
       "    .dataframe thead th {\n",
       "        text-align: right;\n",
       "    }\n",
       "</style>\n",
       "<table border=\"1\" class=\"dataframe\">\n",
       "  <thead>\n",
       "    <tr style=\"text-align: right;\">\n",
       "      <th></th>\n",
       "      <th>chiSqs</th>\n",
       "      <th>Metas</th>\n",
       "      <th>Mpi0s</th>\n",
       "      <th>spectProbWeights</th>\n",
       "      <th>spectEqualWeights</th>\n",
       "      <th>beamPhotonMatchToThrowns</th>\n",
       "      <th>beamIDs</th>\n",
       "      <th>isTruePi0Etas</th>\n",
       "    </tr>\n",
       "  </thead>\n",
       "  <tbody>\n",
       "    <tr>\n",
       "      <th>1541</th>\n",
       "      <td>7.383269</td>\n",
       "      <td>0.580512</td>\n",
       "      <td>0.096797</td>\n",
       "      <td>0.302117</td>\n",
       "      <td>0.5</td>\n",
       "      <td>True</td>\n",
       "      <td>7.0</td>\n",
       "      <td>True</td>\n",
       "    </tr>\n",
       "    <tr>\n",
       "      <th>1549</th>\n",
       "      <td>5.171045</td>\n",
       "      <td>0.574342</td>\n",
       "      <td>0.103305</td>\n",
       "      <td>0.697883</td>\n",
       "      <td>0.5</td>\n",
       "      <td>True</td>\n",
       "      <td>7.0</td>\n",
       "      <td>False</td>\n",
       "    </tr>\n",
       "  </tbody>\n",
       "</table>\n",
       "</div>"
      ],
      "text/plain": [
       "        chiSqs     Metas     Mpi0s  spectProbWeights  spectEqualWeights  \\\n",
       "1541  7.383269  0.580512  0.096797          0.302117                0.5   \n",
       "1549  5.171045  0.574342  0.103305          0.697883                0.5   \n",
       "\n",
       "      beamPhotonMatchToThrowns  beamIDs  isTruePi0Etas  \n",
       "1541                      True      7.0           True  \n",
       "1549                      True      7.0          False  "
      ]
     },
     "execution_count": 22,
     "metadata": {},
     "output_type": "execute_result"
    }
   ],
   "source": [
    "indNotSingleChi=notSingleChiEvents[notSingleChiEvents].index\n",
    "df_weightsDataTrueBeam[[\"chiSqs\",\"Metas\",\"Mpi0s\",\"spectProbWeights\",\"spectEqualWeights\",\n",
    "                        \"beamPhotonMatchToThrowns\",\"beamIDs\",\"isTruePi0Etas\"]][\n",
    "    df_weightsDataTrueBeam.eventNumber==indNotSingleChi[0]]"
   ]
  },
  {
   "cell_type": "code",
   "execution_count": 23,
   "metadata": {},
   "outputs": [],
   "source": [
    "grouped=df_weightsDataTrueBeam.groupby(\"eventNumber\")\n",
    "groupedTruePi0Etas=grouped.isTruePi0Etas.any()\n",
    "hasTruePi0eta=groupedTruePi0Etas[groupedTruePi0Etas].index\n",
    "df_trueBeamHasTruePi0Eta=df_weightsDataTrueBeam[df_weightsDataTrueBeam.eventNumber.isin(hasTruePi0eta)]"
   ]
  },
  {
   "cell_type": "code",
   "execution_count": 24,
   "metadata": {},
   "outputs": [],
   "source": [
    "minChis=df_trueBeamHasTruePi0Eta.groupby(\"eventNumber\").chiSqs.min()\n",
    "grouped2=df_trueBeamHasTruePi0Eta.groupby([\"eventNumber\",\"isTruePi0Etas\"])\n",
    "grouped2=grouped2.chiSqs.min()"
   ]
  },
  {
   "cell_type": "code",
   "execution_count": 25,
   "metadata": {},
   "outputs": [
    {
     "data": {
      "text/plain": [
       "<pandas.core.groupby.generic.DataFrameGroupBy object at 0x7f38c1f92390>"
      ]
     },
     "execution_count": 25,
     "metadata": {},
     "output_type": "execute_result"
    }
   ],
   "source": [
    "grouped2.reset_index().groupby(\"eventNumber\")[\"chiSqs\",\"isTruePi0Etas\"]"
   ]
  },
  {
   "cell_type": "code",
   "execution_count": 78,
   "metadata": {},
   "outputs": [
    {
     "ename": "KeyError",
     "evalue": "'Column not found: isTruePi0Etas'",
     "output_type": "error",
     "traceback": [
      "\u001b[0;31m\u001b[0m",
      "\u001b[0;31mKeyError\u001b[0mTraceback (most recent call last)",
      "\u001b[0;32m<ipython-input-78-50df2aa7f96b>\u001b[0m in \u001b[0;36m<module>\u001b[0;34m()\u001b[0m\n\u001b[0;32m----> 1\u001b[0;31m \u001b[0mgrouped2\u001b[0m\u001b[0;34m.\u001b[0m\u001b[0mgroupby\u001b[0m\u001b[0;34m(\u001b[0m\u001b[0;34m\"eventNumber\"\u001b[0m\u001b[0;34m)\u001b[0m\u001b[0;34m[\u001b[0m\u001b[0;34m\"isTruePi0Etas\"\u001b[0m\u001b[0;34m]\u001b[0m\u001b[0;31m#.len()\u001b[0m\u001b[0;34m\u001b[0m\u001b[0m\n\u001b[0m",
      "\u001b[0;32m/d/home/ln16/.local/lib/python2.7/site-packages/pandas/core/base.pyc\u001b[0m in \u001b[0;36m__getitem__\u001b[0;34m(self, key)\u001b[0m\n\u001b[1;32m    273\u001b[0m         \u001b[0;32melse\u001b[0m\u001b[0;34m:\u001b[0m\u001b[0;34m\u001b[0m\u001b[0m\n\u001b[1;32m    274\u001b[0m             \u001b[0;32mif\u001b[0m \u001b[0mkey\u001b[0m \u001b[0;32mnot\u001b[0m \u001b[0;32min\u001b[0m \u001b[0mself\u001b[0m\u001b[0;34m.\u001b[0m\u001b[0mobj\u001b[0m\u001b[0;34m:\u001b[0m\u001b[0;34m\u001b[0m\u001b[0m\n\u001b[0;32m--> 275\u001b[0;31m                 \u001b[0;32mraise\u001b[0m \u001b[0mKeyError\u001b[0m\u001b[0;34m(\u001b[0m\u001b[0;34m\"Column not found: {key}\"\u001b[0m\u001b[0;34m.\u001b[0m\u001b[0mformat\u001b[0m\u001b[0;34m(\u001b[0m\u001b[0mkey\u001b[0m\u001b[0;34m=\u001b[0m\u001b[0mkey\u001b[0m\u001b[0;34m)\u001b[0m\u001b[0;34m)\u001b[0m\u001b[0;34m\u001b[0m\u001b[0m\n\u001b[0m\u001b[1;32m    276\u001b[0m             \u001b[0;32mreturn\u001b[0m \u001b[0mself\u001b[0m\u001b[0;34m.\u001b[0m\u001b[0m_gotitem\u001b[0m\u001b[0;34m(\u001b[0m\u001b[0mkey\u001b[0m\u001b[0;34m,\u001b[0m \u001b[0mndim\u001b[0m\u001b[0;34m=\u001b[0m\u001b[0;36m1\u001b[0m\u001b[0;34m)\u001b[0m\u001b[0;34m\u001b[0m\u001b[0m\n\u001b[1;32m    277\u001b[0m \u001b[0;34m\u001b[0m\u001b[0m\n",
      "\u001b[0;31mKeyError\u001b[0m: 'Column not found: isTruePi0Etas'"
     ]
    }
   ],
   "source": [
    "grouped2.groupby(\"eventNumber\")[\"isTruePi0Etas\"]#.len()"
   ]
  },
  {
   "cell_type": "code",
   "execution_count": 71,
   "metadata": {},
   "outputs": [],
   "source": [
    "rangeMinTrue=grouped2[:10].reset_index().groupby(\"eventNumber\").agg(\n",
    "    lambda x: len(x))"
   ]
  },
  {
   "cell_type": "code",
   "execution_count": 72,
   "metadata": {},
   "outputs": [
    {
     "data": {
      "text/html": [
       "<div>\n",
       "<style scoped>\n",
       "    .dataframe tbody tr th:only-of-type {\n",
       "        vertical-align: middle;\n",
       "    }\n",
       "\n",
       "    .dataframe tbody tr th {\n",
       "        vertical-align: top;\n",
       "    }\n",
       "\n",
       "    .dataframe thead th {\n",
       "        text-align: right;\n",
       "    }\n",
       "</style>\n",
       "<table border=\"1\" class=\"dataframe\">\n",
       "  <thead>\n",
       "    <tr style=\"text-align: right;\">\n",
       "      <th></th>\n",
       "      <th>isTruePi0Etas</th>\n",
       "      <th>chiSqs</th>\n",
       "    </tr>\n",
       "    <tr>\n",
       "      <th>eventNumber</th>\n",
       "      <th></th>\n",
       "      <th></th>\n",
       "    </tr>\n",
       "  </thead>\n",
       "  <tbody>\n",
       "    <tr>\n",
       "      <th>1.0</th>\n",
       "      <td>1</td>\n",
       "      <td>1.0</td>\n",
       "    </tr>\n",
       "    <tr>\n",
       "      <th>2.0</th>\n",
       "      <td>2</td>\n",
       "      <td>2.0</td>\n",
       "    </tr>\n",
       "    <tr>\n",
       "      <th>3.0</th>\n",
       "      <td>1</td>\n",
       "      <td>1.0</td>\n",
       "    </tr>\n",
       "    <tr>\n",
       "      <th>4.0</th>\n",
       "      <td>2</td>\n",
       "      <td>2.0</td>\n",
       "    </tr>\n",
       "    <tr>\n",
       "      <th>7.0</th>\n",
       "      <td>2</td>\n",
       "      <td>2.0</td>\n",
       "    </tr>\n",
       "    <tr>\n",
       "      <th>8.0</th>\n",
       "      <td>1</td>\n",
       "      <td>1.0</td>\n",
       "    </tr>\n",
       "    <tr>\n",
       "      <th>9.0</th>\n",
       "      <td>1</td>\n",
       "      <td>1.0</td>\n",
       "    </tr>\n",
       "  </tbody>\n",
       "</table>\n",
       "</div>"
      ],
      "text/plain": [
       "             isTruePi0Etas  chiSqs\n",
       "eventNumber                       \n",
       "1.0                      1     1.0\n",
       "2.0                      2     2.0\n",
       "3.0                      1     1.0\n",
       "4.0                      2     2.0\n",
       "7.0                      2     2.0\n",
       "8.0                      1     1.0\n",
       "9.0                      1     1.0"
      ]
     },
     "execution_count": 72,
     "metadata": {},
     "output_type": "execute_result"
    }
   ],
   "source": [
    "rangeMinTrue"
   ]
  },
  {
   "cell_type": "code",
   "execution_count": null,
   "metadata": {},
   "outputs": [],
   "source": [
    "grouped2.reset_index()"
   ]
  },
  {
   "cell_type": "code",
   "execution_count": null,
   "metadata": {},
   "outputs": [],
   "source": [
    "sum(rangeMinTrue!=0)"
   ]
  },
  {
   "cell_type": "code",
   "execution_count": null,
   "metadata": {},
   "outputs": [],
   "source": [
    "rangeMinTrue[rangeMinTrue!=0]"
   ]
  },
  {
   "cell_type": "markdown",
   "metadata": {},
   "source": [
    "## Checking effects of accidental subtraction on various mass plots"
   ]
  },
  {
   "cell_type": "code",
   "execution_count": null,
   "metadata": {
    "scrolled": false
   },
   "outputs": [],
   "source": [
    "fig,axes=plt.subplots(8,2,figsize=(18,36))\n",
    "# Selecting True beam photons and then selecting non-True beam photons. Plotting the Meta/Mpi0/Mpi0eta\n",
    "# distributions\n",
    "for i,isTrueBeam in enumerate([True,False]):\n",
    "    df_weightsDataSubset=df_weightsData[df_weightsData.beamPhotonMatchToThrowns==isTrueBeam]\n",
    "    axes=axes.flatten()\n",
    "    axes[0+i*4].hist2d(df_weightsDataSubset.Mpi0s,df_weightsDataSubset.Metas,\n",
    "                       bins=(100,100),range=[[0.075,0.2],[0.4,0.7]]\n",
    "                      )\n",
    "    axes[0+i*4].set_xlabel(\"Mpi0_KIN\",size=18)\n",
    "    axes[0+i*4].set_ylabel(\"Meta_KIN\",size=18)\n",
    "    axes[1+i*4].hist2d(df_weightsDataSubset.Mpi0s_meas,df_weightsDataSubset.Metas_meas,\n",
    "                       bins=(100,100),range=[[0.075,0.2],[0.4,0.7]]\n",
    "                      )\n",
    "    axes[1+i*4].set_xlabel(\"Mpi0_MEAS\",size=18)\n",
    "    axes[1+i*4].set_ylabel(\"Meta_MEAS\",size=18)\n",
    "    axes[2+i*4].hist(df_weightsDataSubset.Mpi0etas,bins=100)\n",
    "    axes[2+i*4].set_xlabel(\"Mpi0eta_KIN\",size=18)\n",
    "    axes[3+i*4].hist(df_weightsDataSubset.Mpi0etas_meas,bins=100)\n",
    "    axes[3+i*4].set_xlabel(\"Mpi0eta_MEAS\",size=18)\n",
    "\n",
    "    \n",
    "# Accidental Weighted    \n",
    "axes[8].hist2d(df_weightsData.Mpi0s,df_weightsData.Metas, weights=df_weightsData.AccWeights,\n",
    "                       bins=(100,100),range=[[0.075,0.2],[0.4,0.7]]\n",
    "                      )\n",
    "axes[8].set_xlabel(\"Mpi0_KIN\",size=18)\n",
    "axes[8].set_ylabel(\"Meta_KIN\",size=18)\n",
    "axes[9].hist2d(df_weightsData.Mpi0s_meas,df_weightsData.Metas_meas, weights=df_weightsData.AccWeights,\n",
    "                       bins=(100,100),range=[[0.075,0.2],[0.4,0.7]]\n",
    "                      )\n",
    "axes[9].set_xlabel(\"Mpi0_MEAS\",size=18)\n",
    "axes[9].set_ylabel(\"Meta_MEAS\",size=18)\n",
    "axes[10].hist(df_weightsData.Mpi0etas,bins=100, weights=df_weightsData.AccWeights)\n",
    "axes[10].set_xlabel(\"Mpi0eta_KIN\",size=18)\n",
    "axes[11].hist(df_weightsData.Mpi0etas_meas,bins=100, weights=df_weightsData.AccWeights)\n",
    "axes[11].set_xlabel(\"Mpi0eta_MEAS\",size=18)\n",
    "\n",
    "\n",
    "# Both true and accidentals but not accidental weighted\n",
    "axes[12].hist2d(df_weightsData.Mpi0s,df_weightsData.Metas,\n",
    "                       bins=(100,100),range=[[0.075,0.2],[0.4,0.7]]\n",
    "                      )\n",
    "axes[12].set_xlabel(\"Mpi0_KIN\",size=18)\n",
    "axes[12].set_ylabel(\"Meta_KIN\",size=18)\n",
    "axes[13].hist2d(df_weightsData.Mpi0s_meas,df_weightsData.Metas_meas,\n",
    "                       bins=(100,100),range=[[0.075,0.2],[0.4,0.7]]\n",
    "                      )\n",
    "axes[13].set_xlabel(\"Mpi0_MEAS\",size=18)\n",
    "axes[13].set_ylabel(\"Meta_MEAS\",size=18)\n",
    "axes[14].hist(df_weightsData.Mpi0etas,bins=100)\n",
    "axes[14].set_xlabel(\"Mpi0eta_KIN\",size=18)\n",
    "axes[15].hist(df_weightsData.Mpi0etas_meas,bins=100)\n",
    "axes[15].set_xlabel(\"Mpi0eta_MEAS\",size=18)\n",
    "    \n",
    "plt.tight_layout()\n",
    "plt.rcParams.update({'font.size': 12})"
   ]
  },
  {
   "cell_type": "markdown",
   "metadata": {},
   "source": [
    "Compare the Mpi0eta distribution of the \"True\" beam combos with the accidentally subtracted combos"
   ]
  },
  {
   "cell_type": "code",
   "execution_count": null,
   "metadata": {},
   "outputs": [],
   "source": [
    "binedges=np.histogram(df_weightsData.Mpi0etas,bins=100)[1]\n",
    "df_weightsDataSubset=df_weightsData[df_weightsData.beamPhotonMatchToThrowns==1]\n",
    "fig,ax=plt.subplots(1,1)\n",
    "ax.hist(df_weightsData.Mpi0etas,bins=binedges, weights=df_weightsData.AccWeights,label=\"Acc Subbed\",alpha=0.3)\n",
    "ax.hist(df_weightsDataSubset.Mpi0etas,bins=binedges, label='\"True\"',alpha=0.3)\n",
    "ax.set_xlabel(\"Mpi0eta_KIN\",size=18)\n",
    "ax.set_xlabel(\"Mpi0eta_KIN\",size=18)\n",
    "ax.legend()"
   ]
  },
  {
   "cell_type": "markdown",
   "metadata": {},
   "source": [
    "## Checking accidental subtraction on GJ angles"
   ]
  },
  {
   "cell_type": "code",
   "execution_count": null,
   "metadata": {},
   "outputs": [],
   "source": [
    "fig,axes=plt.subplots(3,2,figsize=(18,12))\n",
    "axes=axes.flatten()\n",
    "labels=[\"True\",\"Accidental\"]\n",
    "for i,isTrueBeam in enumerate([True,False]):\n",
    "    df_weightsDataSubset=df_weightsData[df_weightsData.beamPhotonMatchToThrowns==isTrueBeam]\n",
    "    axes[2*i].hist2d(df_weightsDataSubset.Mpi0etas,df_weightsDataSubset.cosTheta_eta_gjs,\n",
    "                   bins=(100,100),range=[[0,3],[-1,1]],label=\"1231\")\n",
    "    axes[2*i].set_xlabel(\"Mpi0eta_KIN\",size=18)\n",
    "    axes[2*i].set_ylabel(\"cosThetaGJ_KIN\",size=18)\n",
    "    axes[2*i+1].hist2d(df_weightsDataSubset.Mpi0etas_meas,df_weightsDataSubset.cosTheta_eta_gjs_meas,\n",
    "                   bins=(100,100),range=[[0,3],[-1,1]],label=labels[i])\n",
    "    axes[2*i+1].set_xlabel(\"Mpi0eta_MEAS\",size=18)\n",
    "    axes[2*i+1].set_ylabel(\"cosThetaGJ_MEAS\",size=18)\n",
    "    \n",
    "axes[4].hist2d(df_weightsData.Mpi0etas,df_weightsData.cosTheta_eta_gjs,\n",
    "               bins=(100,100),range=[[0,3],[-1,1]],label=labels[i],\n",
    "               weights=df_weightsData.AccWeights\n",
    "              )\n",
    "axes[4].set_xlabel(\"Mpi0eta_KIN\",size=18)\n",
    "axes[4].set_ylabel(\"cosThetaGJ_KIN\",size=18)\n",
    "\n",
    "axes[5].hist2d(df_weightsData.Mpi0etas_meas,df_weightsData.cosTheta_eta_gjs_meas,\n",
    "                bins=(100,100),range=[[0,3],[-1,1]],label=labels[i],\n",
    "                weights=df_weightsData.AccWeights\n",
    "              )\n",
    "axes[5].set_xlabel(\"Mpi0eta_MEAS\",size=18)\n",
    "axes[5].set_ylabel(\"cosThetaGJ_MEAS\",size=18)\n",
    "plt.tight_layout()\n",
    "plt.savefig(\"combinatoricStudy/comboTrackingGJ.png\")"
   ]
  },
  {
   "cell_type": "markdown",
   "metadata": {},
   "source": [
    "Check the GJ angle explicity"
   ]
  },
  {
   "cell_type": "code",
   "execution_count": null,
   "metadata": {},
   "outputs": [],
   "source": [
    "fig,axes=plt.subplots(1,2,figsize=(14,6))\n",
    "axes=axes.flatten()\n",
    "labels=[\"TrueBeam\"]\n",
    "binedges=np.histogram(df_weightsDataSubset.cosTheta_eta_gjs,bins=50)[1]\n",
    "for i,isTrueBeam in enumerate([True]):\n",
    "    df_weightsDataSubset=df_weightsData[df_weightsData.beamPhotonMatchToThrowns==isTrueBeam]\n",
    "    axes[0].hist(df_weightsDataSubset.cosTheta_eta_gjs,label=labels[i],histtype=u'step',bins=binedges,\n",
    "                linewidth=2)\n",
    "    axes[0].set_xlabel(\"cosThetaGJ_KIN\",size=18)\n",
    "    axes[1].hist(df_weightsDataSubset.cosTheta_eta_gjs_meas,label=labels[i],histtype=u'step',bins=binedges,\n",
    "                linewidth=2)\n",
    "    axes[1].set_xlabel(\"cosThetaGJ_MEAS\",size=18)\n",
    "    \n",
    "axes[0].hist(df_weightsData.cosTheta_eta_gjs,\n",
    "               weights=df_weightsData.AccWeights, label=\"Accidental Subtracted\",histtype=u'step',bins=binedges\n",
    "              )\n",
    "\n",
    "axes[1].hist(df_weightsData.cosTheta_eta_gjs_meas,\n",
    "                weights=df_weightsData.AccWeights, label=\"Accidental Subtracted\",histtype=u'step',bins=binedges\n",
    "              )\n",
    "axes[0].legend()\n",
    "axes[1].legend()\n",
    "plt.tight_layout()"
   ]
  },
  {
   "cell_type": "markdown",
   "metadata": {},
   "source": [
    "## Checking Mpi0eta distributions and compare tracking + accidental subtraction"
   ]
  },
  {
   "cell_type": "code",
   "execution_count": null,
   "metadata": {},
   "outputs": [],
   "source": [
    "fig,ax=plt.subplots(1,3,figsize=(16,6))\n",
    "binedges=np.histogram(df_weightsData.Mpi0eta_thrown,bins=200)[1]\n",
    "\n",
    "\n",
    "df_weightsData.Mpi0eta_thrown.plot(kind=\"hist\",histtype=u'step',bins=binedges,alpha=0.7,ax=ax[0])\n",
    "df_weightsData.Mpi0etas.plot(kind=\"hist\",histtype=u'step',bins=binedges,alpha=0.5,ax=ax[0])\n",
    "ax[0].axvline(1.32,c='red',label=\"a2(1320)\",alpha=0.5)\n",
    "ax[0].axvline(0.98,c='red',label=\"a0(980)\",alpha=0.5)\n",
    "ax[0].set_title(\"No Selections\")\n",
    "\n",
    "\n",
    "df_weightsData.Mpi0eta_thrown[df_weightsData.beamPhotonMatchToThrowns].plot(kind=\"hist\",bins=binedges\n",
    "                                                ,histtype=u'step',alpha=0.7,ax=ax[1])\n",
    "df_weightsData.Mpi0etas.plot(kind=\"hist\",histtype=u'step',bins=binedges,\n",
    "                             weights=df_weightsData.AccWeights,ax=ax[1])\n",
    "ax[1].axvline(1.32,c='red',label=\"a2(1320)\",alpha=0.5)\n",
    "ax[1].axvline(0.98,c='red',label=\"a0(980)\",alpha=0.5)\n",
    "ax[1].set_title(\"TrueBeam vs AccSub\")\n",
    "\n",
    "\n",
    "df_weightsData.Mpi0eta_thrown[(df_weightsData.beamPhotonMatchToThrowns) & (df_weightsData.isTruePi0Etas)].plot(\n",
    "    kind=\"hist\",bins=binedges,histtype=u'step',alpha=0.7,ax=ax[2])\n",
    "df_weightsData.Mpi0etas.plot(kind=\"hist\",histtype=u'step',\n",
    "                             bins=binedges,weights=df_weightsData.AccWeights*df_weightsData.spectBestChiWeights,\n",
    "                             ax=ax[2])\n",
    "ax[2].axvline(1.32,c='red',label=\"a2(1320)\",alpha=0.5)\n",
    "ax[2].axvline(0.98,c='red',label=\"a0(980)\",alpha=0.5)\n",
    "ax[2].set_title(\"TrueBeamPi0Eta vs AccSubSpectTrack\")\n",
    "\n",
    "plt.tight_layout()"
   ]
  },
  {
   "cell_type": "code",
   "execution_count": null,
   "metadata": {
    "scrolled": false
   },
   "outputs": [],
   "source": [
    "fig = plt.figure(figsize=(18, 6))\n",
    "ax1= fig.add_subplot(2,2,1)\n",
    "ax2= fig.add_subplot(2,2,2)\n",
    "\n",
    "\n",
    "# df_weightsDataSubset hold True beam and df_trueBeamPi0eta holds True beam+pi0eta\n",
    "df_weightsDataSubset=df_weightsData[df_weightsData.beamPhotonMatchToThrowns==True]\n",
    "df_trueBeamPi0eta=df_weightsData[(df_weightsData.beamPhotonMatchToThrowns) & (df_weightsData.isTruePi0Etas)]\n",
    "binedges=np.histogram(df_weightsDataSubset.Mpi0etas,bins=200)[1]\n",
    "\n",
    "df_weightsDataSubset.Mpi0etas.plot(kind=\"hist\",bins=binedges,\n",
    "                                   label=\"TrueBeam\"+\"\\n  integral=\"+str(len(df_weightsDataSubset)),\n",
    "                                   ax=ax1,alpha=0.7)\n",
    "df_weightsData.Mpi0etas.plot(kind=\"hist\",bins=binedges,ax=ax1,\n",
    "                             weights=df_weightsData.AccWeights,alpha=0.5,\n",
    "                             label=\"Accidental Subtracted\"+\"\\n  integral=\"+str(sum(df_weightsData.AccWeights))\n",
    "                            )\n",
    "percentDifference=int(len(df_weightsDataSubset)/sum(df_weightsData.AccWeights)*1000)/10.0\n",
    "ax1.set_title(\"Integral TrueBeam/AccSub=\"+str(percentDifference)+\"%\",size=15)\n",
    "ax1.legend(prop={'size': 12})\n",
    "ax1.set_xlabel(\"Mpi0eta\",size=15)\n",
    "\n",
    "df_weightsDataSubset.Mpi0etas.plot(kind=\"hist\",bins=binedges,label=\"TrueBeam\",ax=ax2,alpha=0.7)\n",
    "df_trueBeamPi0eta.Mpi0etas.plot(kind=\"hist\",bins=binedges,label=\"TrueBeam+TruePi0eta\",ax=ax2,alpha=0.5)\n",
    "ax2.legend(prop={'size': 12})\n",
    "ax2.set_xlabel(\"Mpi0eta\",size=15)\n",
    "plt.savefig(\"combinatoricStudy/Mpi0eta.png\")\n",
    "\n",
    "\n",
    "fig = plt.figure(figsize=(18, 12))\n",
    "ax3= fig.add_subplot(1,1,1)\n",
    "integralTrue=len(df_trueBeamPi0eta)\n",
    "df_trueBeamPi0eta.Mpi0etas.plot(kind=\"hist\",bins=binedges,\n",
    "                                label=\"TrueBeam+TruePi0eta\"+\" || integral=\"+str(integralTrue),\n",
    "                                ax=ax3,alpha=1,histtype=u'step',linewidth=3)\n",
    "# df_weightsDataSubset.Mpi0etas.plot(kind=\"hist\",bins=binedges,label=\"TrueBeam\\n+ spectBestChi\",ax=ax3,\n",
    "#                                    histtype=u'step',linewidth=2,alpha=0.5,\n",
    "#                                    weights=df_weightsDataSubset.spectBestChiWeights)\n",
    "integralSpectSub=sum(df_weightsData.AccWeights*df_weightsData.spectBestChiWeights)\n",
    "df_weightsData.Mpi0etas.plot(kind=\"hist\",bins=binedges,ax=ax3,histtype=u'step',linewidth=3,\n",
    "                             weights=df_weightsData.AccWeights*df_weightsData.spectBestChiWeights,\n",
    "                             alpha=0.5,\n",
    "                             label=\"Accidental Subtracted\\n+ spectBestChi\"+\" || integral=\"+str(integralSpectSub)\n",
    "                            )\n",
    "df_weightsData.Mpi0etas.plot(kind=\"hist\",bins=binedges,ax=ax3,histtype=u'step',linewidth=3,\n",
    "                             weights=df_weightsData.AccWeights*df_weightsData.bestChiWeights,\n",
    "                             alpha=0.5,label=\"Accidental Subtracted\\n+ BestChi\"+\" || integral=\"+str(sum(df_weightsData.AccWeights*df_weightsData.bestChiWeights))\n",
    "                            )\n",
    "df_trueBeamPi0eta.Mpi0eta_thrown.plot(kind=\"hist\",bins=binedges,ax=ax3,\n",
    "                                      label=\"Thrown || integral=\"+str(len(df_trueBeamPi0eta)),\n",
    "                                      alpha=0.6,linewidth=3,color=\"grey\")\n",
    "ax3.axvline(1.32,c='red',label=\"a2(1320)\",alpha=0.5)\n",
    "ax3.axvline(0.98,c='red',label=\"a0(980)\",alpha=0.5)\n",
    "ax3.legend(prop={'size': 16})\n",
    "ax3.set_xlabel(\"Mpi0eta\",size=16)\n",
    "plt.title(\"Integral TrueBeamPi0Eta/AccSubSpectTrack=\"+str(integralTrue/integralSpectSub),size=26)\n",
    "plt.savefig(\"combinatoricStudy/Mpi0etaComparison.png\")"
   ]
  },
  {
   "cell_type": "markdown",
   "metadata": {},
   "source": [
    "## Compare {Best,Prob,Equal} Tracking schemes"
   ]
  },
  {
   "cell_type": "code",
   "execution_count": null,
   "metadata": {},
   "outputs": [],
   "source": [
    "fig,ax = plt.subplots(2,2,figsize=(18, 12))\n",
    "ax=ax.flatten()\n",
    "\n",
    "def overlayTrackingDiagHists(var1,ax,legLoc):\n",
    "    binedges=np.histogram(df_weightsData[var1],bins=150)[1]\n",
    "    # -- True\n",
    "    # integralTrue=len(df_trueBeamPi0eta)\n",
    "    # df_trueBeamPi0eta.Mpi0etas.plot(kind=\"hist\",bins=binedges,\n",
    "    #                                 label=\"TrueBeam+TruePi0eta\"+\" || integral=\"+str(integralTrue),\n",
    "    #                                 ax=ax3,alpha=1,histtype=u'step',linewidth=3)\n",
    "\n",
    "    # -- Spect Best\n",
    "    integralSpectBestSub=sum(df_weightsData.AccWeights*df_weightsData.spectBestChiWeights)\n",
    "    df_weightsData[var1].plot(kind=\"hist\",bins=binedges,ax=ax,histtype=u'step',linewidth=3,\n",
    "                                 weights=df_weightsData.AccWeights*df_weightsData.spectBestChiWeights,\n",
    "                                 alpha=0.5,\n",
    "                                 label=\"Accidental Subtracted\\n+ spectBestChi\"\n",
    "                                )\n",
    "\n",
    "    # -- Spect Prob\n",
    "    integralSpectProbSub=sum(df_weightsData.AccWeights*df_weightsData.spectProbWeights)\n",
    "    df_weightsData[var1].plot(kind=\"hist\",bins=binedges,ax=ax,histtype=u'step',linewidth=3,\n",
    "                                 weights=df_weightsData.AccWeights*df_weightsData.spectProbWeights,\n",
    "                                 alpha=0.5,\n",
    "                                 label=\"Accidental Subtracted\\n+ spectProb\"\n",
    "                                )\n",
    "\n",
    "    # -- Spect Equal\n",
    "    integralSpectEqualSub=sum(df_weightsData.AccWeights*df_weightsData.spectEqualWeights)\n",
    "    df_weightsData[var1].plot(kind=\"hist\",bins=binedges,ax=ax,histtype=u'step',linewidth=3,\n",
    "                                 weights=df_weightsData.AccWeights*df_weightsData.spectEqualWeights,\n",
    "                                 alpha=0.5,\n",
    "                                 label=\"Accidental Subtracted\\n+ spectEqual\"\n",
    "                                )\n",
    "    if var1==\"Mpi0etas\":\n",
    "        ax.axvline(1.32,c='red',label=\"a2(1320)\",alpha=0.5)\n",
    "        ax.axvline(0.98,c='red',label=\"a0(980)\",alpha=0.5)\n",
    "    if legLoc != \"\":\n",
    "        ax.legend(loc=legLoc)\n",
    "    ax.set_xlabel(var1,size=24)\n",
    "    ax.set_title(\"Integral TrueBeamPi0Eta/AccSubSpectTrack=\"+str(integralTrue/integralSpectSub))#,size=26)\n",
    "    \n",
    "    \n",
    "overlayTrackingDiagHists(\"Mpi0etas\",ax[0],\"upper right\")\n",
    "overlayTrackingDiagHists(\"Mpi0ps\",ax[1],\"upper right\")\n",
    "overlayTrackingDiagHists(\"Metaps\",ax[2],\"upper left\")\n",
    "overlayTrackingDiagHists(\"cosTheta_eta_gjs\",ax[3],\"upper center\")\n",
    "plt.tight_layout()"
   ]
  },
  {
   "cell_type": "markdown",
   "metadata": {},
   "source": [
    "## How does the mass distributions look like when looking at events with different number of spectroscopic combos?"
   ]
  },
  {
   "cell_type": "code",
   "execution_count": null,
   "metadata": {},
   "outputs": [],
   "source": [
    "fig, axs = plt.subplots(2,2,figsize=(16,8))\n",
    "axs=axs.flatten()\n",
    "\n",
    "# First we select all the combos that uses a True beam photon and count the number of times a combo\n",
    "# shares the same event number\n",
    "numSpectCombos=df_weightsData[df_weightsData.beamPhotonMatchToThrowns].eventNumber.value_counts()\n",
    "percentCombos=np.histogram(numSpectCombos,bins=numSpectCombos.max())[0]\n",
    "percentCombos=1.0*counts/counts.sum()\n",
    "roundedPercentCombos=(percentCombos*1000).astype(int)*1.0/10\n",
    "\n",
    "for iax, ax in enumerate(axs):\n",
    "    nComboIndxs=numSpectCombos[numSpectCombos==(iax+1)].index #select all events with N true combos\n",
    "    df_weightsDataSubset=df_weightsData[df_weightsData.eventNumber.isin(nComboIndxs)]\n",
    "    df_weightsDataSubset=df_weightsDataSubset[df_weightsDataSubset.beamPhotonMatchToThrowns]\n",
    "\n",
    "    # Right now df_weightsDataSubset should have all the events that have selectEventWithNCombos number of \n",
    "    # combos with true beam photon\n",
    "    ax.hist2d(df_weightsDataSubset.Mpi0s,df_weightsDataSubset.Metas, bins=(100,100),\n",
    "              range=[[0.075,0.2],[0.4,0.7]],label=str(roundedPercentCombos[iax])\n",
    "                          )\n",
    "    ax.set_xlabel(\"Mpi0_KIN\",size=18)\n",
    "    ax.set_ylabel(\"Meta_KIN\",size=18)\n",
    "    ax.set_title(str(roundedPercentCombos[iax])+\"% have \"+str(iax+1)+\" true beam combos/event\",size=18)\n",
    "    ax.legend()\n",
    "plt.tight_layout()"
   ]
  },
  {
   "cell_type": "markdown",
   "metadata": {},
   "source": [
    "In the following section we look at combos with True beam photon. This means accidental subtraction is already not needed. We can look at how the mass distributions look like depending on the number of spectroscopic combos  there are in an event. i.e. we will look at Meta for all events that only have 1 spectroscopic combo with the entire dataset subsetted to all the combos with True beam photons"
   ]
  },
  {
   "cell_type": "code",
   "execution_count": null,
   "metadata": {},
   "outputs": [],
   "source": [
    "nBins=300\n",
    "\n",
    "numSpectCombos=df_weightsData[df_weightsData.beamPhotonMatchToThrowns].eventNumber.value_counts()\n",
    "\n",
    "fig, axs = plt.subplots(3,1,figsize=(16,15))\n",
    "axs=axs.flatten()\n",
    "binedges=np.histogram(df_weightsData.Metas,bins=400)[1]\n",
    "for i in range(4):\n",
    "    nComboIndxs=numSpectCombos[numSpectCombos==(i+1)].index #select all events with N true combos\n",
    "    df_weightsDataSubset=df_weightsData[df_weightsData.eventNumber.isin(nComboIndxs)]\n",
    "    df_weightsDataSubset=df_weightsDataSubset[df_weightsDataSubset.beamPhotonMatchToThrowns]\n",
    "    \n",
    "    weights=[1.0/(i+1)]*len(df_weightsDataSubset)\n",
    "    label=str(roundedPercentCombos[i])+\"% have \"+str(i+1)+\" spect combos/event\"\n",
    "    label+=\"\\n weighted by \"+str(1./(i+1))\n",
    "    if i==0:\n",
    "        axs[0].hist(df_weightsDataSubset[\"Metas\"],bins=binedges,histtype=u'step',linewidth=2,\n",
    "                label=label,weights=weights)\n",
    "    else:\n",
    "        axs[0].hist(df_weightsDataSubset[\"Metas\"],bins=binedges,histtype=u'step',linewidth=2,alpha=0.5,\n",
    "                label=label,weights=weights)\n",
    "axs[0].set_xlabel(\"Meta\",size=20)\n",
    "axs[0].set_xlim(0.3,0.8)\n",
    "axs[0].legend(prop={'size': 16})\n",
    "\n",
    "                       \n",
    "binedges=np.histogram(df_weightsData.Mpi0s,bins=400)[1]\n",
    "for i in range(4):\n",
    "    nComboIndxs=numSpectCombos[numSpectCombos==(i+1)].index #select all events with N true combos\n",
    "    df_weightsDataSubset=df_weightsData[df_weightsData.eventNumber.isin(nComboIndxs)]\n",
    "    df_weightsDataSubset=df_weightsDataSubset[df_weightsDataSubset.beamPhotonMatchToThrowns]\n",
    "    \n",
    "    weights=[1.0/(i+1)]*len(df_weightsDataSubset)\n",
    "    label=str(roundedPercentCombos[i])+\"% have \"+str(i+1)+\" spect combos/event\"\n",
    "    label+=\"\\n weighted by \"+str(1./(i+1))\n",
    "    if i==0:\n",
    "        axs[1].hist(df_weightsDataSubset[\"Mpi0s\"],bins=binedges,histtype=u'step',linewidth=2,\n",
    "                label=label,weights=weights)\n",
    "    else:\n",
    "        axs[1].hist(df_weightsDataSubset[\"Mpi0s\"],bins=binedges,histtype=u'step',linewidth=2,alpha=0.5,\n",
    "                label=label,weights=weights)\n",
    "axs[1].set_xlabel(\"Mpi0\",size=20)\n",
    "axs[1].set_xlim(0.05,0.25)\n",
    "axs[1].legend(prop={'size': 16})\n",
    "\n",
    "saveDFs=[]\n",
    "saveWeights=[]\n",
    "binedges=np.histogram(df_weightsData.Mpi0etas,bins=nBins)[1]\n",
    "for i in range(4):\n",
    "    nComboIndxs=numSpectCombos[numSpectCombos==(i+1)].index #select all events with N true combos\n",
    "    df_weightsDataSubset=df_weightsData[df_weightsData.eventNumber.isin(nComboIndxs)]\n",
    "    df_weightsDataSubset=df_weightsDataSubset[df_weightsDataSubset.beamPhotonMatchToThrowns]\n",
    "    saveDFs.append(df_weightsDataSubset)\n",
    "    \n",
    "    label=str(roundedPercentCombos[i])+\"% have \"+str(i+1)+\" spect combos/event\"\n",
    "    label+=\"\\n weighted by \"+str(1./(i+1))\n",
    "    saveWeights.append(pd.DataFrame([1.0/(i+1)]*len(df_weightsDataSubset)))\n",
    "    if i==0:\n",
    "        axs[2].hist(df_weightsDataSubset[\"Mpi0etas\"],bins=binedges,histtype=u'step',linewidth=2,\n",
    "                label=label,weights=saveWeights[i][0].values)\n",
    "    else:\n",
    "        axs[2].hist(df_weightsDataSubset[\"Mpi0etas\"],bins=binedges,histtype=u'step',linewidth=2,alpha=0.5,\n",
    "                label=label,weights=saveWeights[i][0].values)\n",
    "axs[2].set_xlabel(\"Mpi0eta\",size=20)\n",
    "axs[2].set_xlim(0.5,2)\n",
    "df_weightsDataSubset=df_weightsData[df_weightsData.beamPhotonMatchToThrowns==True]\n",
    "df_weightsDataSubset=df_weightsDataSubset[df_weightsDataSubset.isTruePi0Etas==True]\n",
    "axs[2].hist(pd.concat(saveDFs,ignore_index=True).Mpi0etas,bins=binedges,histtype=u'step',\n",
    "         weights=pd.concat(saveWeights,ignore_index=True)[0],label=\"Summed over all N spect combos/event\",linewidth=2)\n",
    "df_weightsDataSubset.Mpi0etas.plot(kind=\"hist\",bins=binedges,label=\"TrueBeam+TruePi0eta\",ax=axs[2],alpha=0.2)\n",
    "axs[2].legend(prop={'size': 16})\n",
    "\n",
    "plt.tight_layout()"
   ]
  },
  {
   "cell_type": "markdown",
   "metadata": {},
   "source": [
    "## Including sideband subtraction"
   ]
  },
  {
   "cell_type": "code",
   "execution_count": null,
   "metadata": {},
   "outputs": [],
   "source": [
    "# import the fit results so we can get the sigma/mean to help define the regions\n",
    "folderLoc=\"/d/grid15/ln16/pi0eta/092419/fitMassToHist/fitResults/\"\n",
    "fileNames=[\"etaFit_toMain_.txt\",\"pi0Fit_toMain_.txt\"]\n",
    "params=[{},{}]\n",
    "\n",
    "for ifile, fileName in enumerate(fileNames):\n",
    "    fileLoc=folderLoc+fileName\n",
    "    with open(fileLoc) as fitFile:\n",
    "        for line in fitFile:\n",
    "            lineArr=line.rstrip().lstrip().split(\" \")\n",
    "            context=lineArr[0]\n",
    "            content=lineArr[1]\n",
    "            if(context==\"mass\"):\n",
    "                params[ifile][context]=float(content)\n",
    "            if(context==\"#weightedSigma\"):\n",
    "                params[ifile][context[1:]]=float(content)\n",
    "sigmaEta=params[0][\"weightedSigma\"]\n",
    "meanEta=params[0][\"mass\"]\n",
    "sigmaPi0=params[1][\"weightedSigma\"]\n",
    "meanPi0=params[1][\"mass\"]"
   ]
  },
  {
   "cell_type": "code",
   "execution_count": null,
   "metadata": {},
   "outputs": [],
   "source": [
    "def addRegions(ax,mass,sigma,sigs,direction,showWeight):\n",
    "    colors=[\"red\",\"orange\",\"yellow\",\"green\",\"blue\",\"purple\"]\n",
    "    for i,iSig in enumerate(sigs):\n",
    "        if direction==\"h\":\n",
    "            ax.axhline(mass+iSig*sigma,c=colors[i])\n",
    "            ax.axhline(mass-iSig*sigma,c=colors[i])\n",
    "        else:\n",
    "            ax.axvline(mass+iSig*sigma,c=colors[i])\n",
    "            ax.axvline(mass-iSig*sigma,c=colors[i])\n",
    "        sbWeight=-1*(2.*sigs[0])/(2.*(sigs[2]-sigs[1]))\n",
    "        if showWeight:\n",
    "            ax.text(0.95, 0.9, \"sbWeight: \"+str(sbWeight),\n",
    "                verticalalignment='bottom', horizontalalignment='right',\n",
    "                transform=ax.transAxes,\n",
    "                color='black', fontsize=15,\n",
    "                bbox={'facecolor': 'gray', 'alpha': 1, 'pad': 10}\n",
    "                )"
   ]
  },
  {
   "cell_type": "code",
   "execution_count": null,
   "metadata": {},
   "outputs": [],
   "source": [
    "fig,ax = plt.subplots(1,3,figsize=(18,6))\n",
    "pi0min,pi0max=0.065,0.225\n",
    "etamin,etamax=0.3,0.8\n",
    "pi0SigRegions=[4,6,8]\n",
    "etaSigRegions=[4,6,11]\n",
    "\n",
    "ax[0].hist(df_weightsData.Mpi0s,bins=200,weights=df_weightsData.AccWeights*df_weightsData.spectBestChiWeights)\n",
    "ax[0].set_xlabel(\"Mpi0\",size=24)\n",
    "ax[0].set_xlim(pi0min,pi0max)\n",
    "addRegions(ax[0],meanPi0,sigmaPi0,pi0SigRegions,\"v\",True)\n",
    "\n",
    "\n",
    "ax[1].hist2d(df_weightsData.Mpi0s,df_weightsData.Metas,\n",
    "             bins=(100,100),range=[[pi0min,pi0max],[etamin,etamax]],\n",
    "             weights=df_weightsData.AccWeights*df_weightsData.spectBestChiWeights\n",
    "                      )\n",
    "ax[1].set_xlabel(\"Mpi0\",size=24)\n",
    "ax[1].set_ylabel(\"Meta\",size=24)\n",
    "addRegions(ax[1],meanPi0,sigmaPi0,pi0SigRegions,\"v\",False)\n",
    "addRegions(ax[1],meanEta,sigmaEta,etaSigRegions,\"h\",False)\n",
    "\n",
    "\n",
    "\n",
    "ax[2].hist(df_weightsData.Metas,bins=200,weights=df_weightsData.AccWeights*df_weightsData.spectBestChiWeights)\n",
    "ax[2].set_xlabel(\"Meta\",size=24)\n",
    "ax[2].set_xlim(etamin,etamax)\n",
    "addRegions(ax[2],meanEta,sigmaEta,etaSigRegions,\"v\",True)\n",
    "plt.tight_layout()\n",
    "\n",
    "st=fig.suptitle(\"Inside Red = Signal || Between Orange/Yellow = Sideband\", fontsize=20)\n",
    "st.set_y(1.025)"
   ]
  },
  {
   "cell_type": "code",
   "execution_count": null,
   "metadata": {},
   "outputs": [],
   "source": [
    "# define the different regions and their weights\n",
    "piWeights=np.zeros(len(df_weightsData))\n",
    "weightBinPi0 = [\n",
    "    -np.inf,\n",
    "    meanPi0-pi0SigRegions[2]*sigmaPi0,\n",
    "    meanPi0-pi0SigRegions[1]*sigmaPi0,\n",
    "    meanPi0-pi0SigRegions[0]*sigmaPi0,\n",
    "    meanPi0+pi0SigRegions[0]*sigmaPi0,\n",
    "    meanPi0+pi0SigRegions[1]*sigmaPi0,\n",
    "    meanPi0+pi0SigRegions[2]*sigmaPi0,\n",
    "    np.inf\n",
    "             ]\n",
    "sbWeightPi0=-1*(2*pi0SigRegions[0])/(2*(pi0SigRegions[2]-pi0SigRegions[1]))\n",
    "weightsPi0=[0,sbWeightPi0,0,1,0,sbWeightPi0,0]\n",
    "\n",
    "etaWeights=np.zeros(len(df_weightsData))\n",
    "weightBinEta = [\n",
    "    -np.inf,\n",
    "    meanEta-etaSigRegions[2]*sigmaEta,\n",
    "    meanEta-etaSigRegions[1]*sigmaEta,\n",
    "    meanEta-etaSigRegions[0]*sigmaEta,\n",
    "    meanEta+etaSigRegions[0]*sigmaEta,\n",
    "    meanEta+etaSigRegions[1]*sigmaEta,\n",
    "    meanEta+etaSigRegions[2]*sigmaEta,\n",
    "    np.inf\n",
    "             ]\n",
    "sbWeightEta=-1.*(2*etaSigRegions[0])/(2*(etaSigRegions[2]-etaSigRegions[1]))\n",
    "weightsEta=[0,sbWeightEta,0,1,0,sbWeightEta,0]\n",
    "\n",
    "# Copy the Mpi0s and Metas columns so we can replace their values\n",
    "df_weightsData[\"sbWeightPi0\"]=df_weightsData.Mpi0s\n",
    "df_weightsData[\"sbWeightEta\"]=df_weightsData.Metas\n",
    "\n",
    "# Replace the values by using a map\n",
    "def getSBweight(value,weightBins,weights):\n",
    "    for i in range(len(weights)):\n",
    "        lower=weightBins[i]\n",
    "        upper=weightBins[i+1]\n",
    "        weight=weights[i]\n",
    "        if value>lower and value<upper:\n",
    "            return weight\n",
    "df_weightsData.sbWeightPi0=df_weightsData.sbWeightPi0.apply(\n",
    "    lambda val: getSBweight(val,weightBinPi0,weightsPi0))\n",
    "df_weightsData.sbWeightEta=df_weightsData.sbWeightEta.apply(\n",
    "    lambda val: getSBweight(val,weightBinEta,weightsEta))"
   ]
  },
  {
   "cell_type": "code",
   "execution_count": null,
   "metadata": {},
   "outputs": [],
   "source": [
    "fig,ax=plt.subplots(2,2,figsize=(12,8))\n",
    "ax=ax.flatten()\n",
    "df_weightsData.sbWeightPi0.plot(kind='hist',ax=ax[0],bins=20)\n",
    "ax[0].set_xlabel(\"pi0 sideband weights\")\n",
    "df_weightsData.sbWeightEta.plot(kind='hist',ax=ax[1],bins=20)\n",
    "ax[1].set_xlabel(\"eta sideband weights\")\n",
    "ax[2].hist(df_weightsData.sbWeightPi0*df_weightsData.sbWeightEta,bins=20)\n",
    "ax[2].set_xlabel(\"pi0*eta sideband weights\")\n",
    "plt.tight_layout()"
   ]
  },
  {
   "cell_type": "code",
   "execution_count": null,
   "metadata": {
    "scrolled": false
   },
   "outputs": [],
   "source": [
    "fig,ax=plt.subplots(3,3,figsize=(18,18))\n",
    "ax=ax.flatten()\n",
    "df_trueBeamPi0eta=df_weightsData[(df_weightsData.beamPhotonMatchToThrowns) & (df_weightsData.isTruePi0Etas)]\n",
    "df_trueBeamPi0etaSigReg=df_trueBeamPi0eta[(df_trueBeamPi0eta.sbWeightPi0==1)*\n",
    "                                          (df_trueBeamPi0eta.sbWeightPi0==1)]\n",
    "\n",
    "# Mpi0eta after applying and sideband subtraction\n",
    "binedges=np.histogram(df_weightsData.Mpi0s,bins=200)[1]\n",
    "df_trueBeamPi0etaSigReg.Mpi0s.plot(kind=\"hist\",bins=binedges,\n",
    "                                ax=ax[0],alpha=0.4,linewidth=2,label=\"trueBeamPi0Eta\\n +sigRegion\")\n",
    "ax[0].hist(df_weightsData.Mpi0s,bins=binedges,\n",
    "           weights=df_weightsData.AccWeights*\n",
    "          df_weightsData.sbWeightEta,histtype=u'step',label=\"AccSub\\n +SBSub\")\n",
    "ax[0].hist(df_weightsData.Mpi0s,bins=binedges,\n",
    "           weights=df_weightsData.AccWeights*df_weightsData.spectBestChiWeights,histtype=u'step',\n",
    "          label=\"AccSub\\n +SpectBestChiSq\")\n",
    "ax[0].set_xlabel(\"Mpi0\",size=18)\n",
    "ax[0].set_title(\"SB(eta)\",size=24)\n",
    "ax[0].legend()\n",
    "\n",
    "# Mpi0eta after applying and sideband subtraction\n",
    "binedges=np.histogram(df_weightsData.Metas,bins=200)[1]\n",
    "df_trueBeamPi0etaSigReg.Metas.plot(kind=\"hist\",bins=binedges,\n",
    "                                ax=ax[1],alpha=0.4,linewidth=2,label=\"trueBeamPi0Eta\\n +sigRegion\")\n",
    "ax[1].hist(df_weightsData.Metas,bins=binedges,\n",
    "           weights=df_weightsData.AccWeights*\n",
    "          df_weightsData.sbWeightPi0,histtype=u'step',label=\"AccSub\\n +SBSub\")\n",
    "ax[1].hist(df_weightsData.Metas,bins=binedges,\n",
    "           weights=df_weightsData.AccWeights*df_weightsData.spectBestChiWeights,histtype=u'step',\n",
    "          label=\"AccSub\\n +SpectBestChiSq\")\n",
    "ax[1].set_xlabel(\"Meta\",size=18)\n",
    "ax[1].set_title(\"SB(pi0)\",size=24)\n",
    "ax[1].legend()\n",
    "\n",
    "def compareTrue_SB_Track(data,trueData,var1,ax,legLoc):\n",
    "    binedges=np.histogram(data[var1],bins=200)[1]\n",
    "    trueData[var1].plot(kind=\"hist\",bins=binedges,\n",
    "                                    ax=ax,alpha=0.4,linewidth=2,label=\"trueBeamPi0Eta\\n +sigRegion\")\n",
    "    ax.hist(data[var1],bins=binedges,\n",
    "               weights=data.AccWeights*\n",
    "              data.sbWeightEta*data.sbWeightPi0,histtype=u'step',label=\"AccSub\\n +SBSub(pi,eta)\")\n",
    "    ax.hist(data[var1],bins=binedges,\n",
    "               weights=data.AccWeights*data.spectBestChiWeights,histtype=u'step',\n",
    "              label=\"AccSub\\n +SpectBestChiSq\")\n",
    "    ax.set_xlabel(var1,size=18)\n",
    "    if legLoc!=\"\":\n",
    "        ax.legend(loc=legLoc)\n",
    "    else:\n",
    "        ax.legend()\n",
    "\n",
    "compareTrue_SB_Track(df_weightsData,df_trueBeamPi0etaSigReg,\"Mpi0etas\",ax[2],\"\")\n",
    "compareTrue_SB_Track(df_weightsData,df_trueBeamPi0etaSigReg,\"Mpi0ps\",ax[3],\"lower center\")\n",
    "compareTrue_SB_Track(df_weightsData,df_trueBeamPi0etaSigReg,\"Metaps\",ax[4],\"lower center\")\n",
    "compareTrue_SB_Track(df_weightsData,df_trueBeamPi0etaSigReg,\"cosTheta_eta_gjs\",ax[5],\"\")\n",
    "\n",
    "\n",
    "# Mpi0eta after applying and sideband subtraction\n",
    "binedges=np.histogram(df_weightsData.Mpi0etas,bins=200)[1]\n",
    "df_trueBeamPi0etaSigReg.Mpi0etas.plot(kind=\"hist\",bins=binedges,\n",
    "                                ax=ax[6],alpha=0.4,linewidth=2,label=\"trueBeamPi0Eta\\n +sigRegion\")\n",
    "ax[6].hist(df_weightsData.Mpi0etas,bins=binedges,\n",
    "           weights=df_weightsData.AccWeights*df_weightsData.spectBestChiWeights*\n",
    "           df_weightsData.sbWeightEta*df_weightsData.sbWeightPi0\n",
    "           ,histtype=u'step',\n",
    "          label=\"AccSub\\n +SpectBestChiSq\\n +SB(pi,eta)\")\n",
    "ax[6].set_xlabel(\"Mpi0eta\",size=18)\n",
    "ax[6].set_title(\"SB(pi,eta)\",size=24)\n",
    "ax[6].legend()\n",
    "\n",
    "\n",
    "plt.tight_layout()"
   ]
  },
  {
   "cell_type": "markdown",
   "metadata": {},
   "source": [
    "### Finally we make the histograms to compare the performance of tracking with sideband subtraction"
   ]
  },
  {
   "cell_type": "code",
   "execution_count": null,
   "metadata": {},
   "outputs": [],
   "source": [
    "fig,ax=plt.subplots(1,2,figsize=(18, 6))\n",
    "\n",
    "df_trueBeamPi0eta=df_weightsData[(df_weightsData.beamPhotonMatchToThrowns) & (df_weightsData.isTruePi0Etas)]\n",
    "binedges=np.histogram(df_weightsDataSubset.Mpi0etas,bins=200)[1]\n",
    "\n",
    "# Does not include sideband subtraction\n",
    "integralTrue=len(df_trueBeamPi0eta)\n",
    "df_trueBeamPi0eta.Mpi0etas.plot(kind=\"hist\",bins=binedges,\n",
    "                                label=\"TrueBeam+TruePi0eta\"+\"\\n integral=\"+str(integralTrue),\n",
    "                                ax=ax[0],alpha=1,histtype=u'step',linewidth=3)\n",
    "integralSpectSub=sum(df_weightsData.AccWeights*df_weightsData.spectBestChiWeights)\n",
    "df_weightsData.Mpi0etas.plot(kind=\"hist\",bins=binedges,ax=ax[0],histtype=u'step',linewidth=3,\n",
    "                             weights=df_weightsData.AccWeights*df_weightsData.spectBestChiWeights,\n",
    "                             alpha=0.5,\n",
    "                             label=\"Accidental Subtracted\\n+ spectBestChi\"+\"\\n integral=\"\n",
    "                             +str(integralSpectSub))\n",
    "ax[0].legend(prop={'size': 12})\n",
    "ax[0].set_xlabel(\"Mpi0eta\",size=16)\n",
    "ax[0].set_title(\"Integral TrueBeamPi0Eta/AccSubSpectTrack=\"+str(integralTrue/integralSpectSub),size=14)\n",
    "\n",
    "\n",
    "# Includes sideband subtraction\n",
    "df_trueBeamPi0etaSigReg=df_trueBeamPi0eta[(df_trueBeamPi0eta.sbWeightPi0==1)*(df_trueBeamPi0eta.sbWeightEta==1)]\n",
    "integralTrueSigReg=len(df_trueBeamPi0etaSigReg)\n",
    "df_trueBeamPi0etaSigReg.Mpi0etas.plot(kind=\"hist\",bins=binedges,\n",
    "                                label=\"TrueBeam+TruePi0eta+sigRegion\"+\"\\n integral=\"\n",
    "                                      +str(integralTrueSigReg),\n",
    "                                ax=ax[1],alpha=1,histtype=u'step',linewidth=3)\n",
    "integralSpectSubSB=sum(df_weightsData.AccWeights*df_weightsData.spectBestChiWeights*\n",
    "                       df_weightsData.sbWeightPi0*df_weightsData.sbWeightEta)\n",
    "df_weightsData.Mpi0etas.plot(kind=\"hist\",bins=binedges,ax=ax[1],histtype=u'step',linewidth=3,\n",
    "                             weights=df_weightsData.AccWeights*df_weightsData.spectBestChiWeights*\n",
    "                             df_weightsData.sbWeightPi0*df_weightsData.sbWeightEta, alpha=0.5,\n",
    "                             label=\"Accidental Subtracted\\n+ spectBestChi\\n+ SBsub\"+\"\\n integral=\"\n",
    "                             +str(integralSpectSub))\n",
    "ax[1].legend(prop={'size': 12})\n",
    "ax[1].set_xlabel(\"Mpi0eta\",size=16)\n",
    "ax[1].set_title(\"Integral TrueBeamPi0EtaSigReg/AccSubSpectTrackSBsub=\"+\n",
    "                str(integralTrueSigReg/integralSpectSubSB),size=14)\n",
    "\n",
    "\n",
    "#plt.savefig(\"combinatoricStudy/Mpi0etaComparison.png\")"
   ]
  },
  {
   "cell_type": "markdown",
   "metadata": {},
   "source": [
    "### Lets first look at the 2D plot of the different regions for signal/sideband/skip"
   ]
  },
  {
   "cell_type": "code",
   "execution_count": null,
   "metadata": {
    "scrolled": false
   },
   "outputs": [],
   "source": [
    "# fig,ax=plt.subplots(2,3,figsize=(12,8))\n",
    "# st=fig.suptitle(\"Only hist of corner events not on log-scale\", fontsize=14)\n",
    "# st.set_y(1.025)\n",
    "# rangemin=0.35\n",
    "# rangemax=0.75\n",
    "\n",
    "# #plt.title(\"Only hist of corner events not on log-scale\")\n",
    "# ax=ax.flatten()\n",
    "# df_trueBeamPi0eta=df_weightsData[(df_weightsData.beamPhotonMatchToThrowns) & (df_weightsData.isTruePi0Etas)]\n",
    "# ax[0].hist2d(df_trueBeamPi0eta.Mpi0s,df_trueBeamPi0eta.Metas,\n",
    "#              bins=(100,100),range=[[0.08,0.2],[rangemin,rangemax]],norm=mpl.colors.LogNorm())\n",
    "# ax[0].set_title(\"nentries: \"+str(len(df_trueBeamPi0eta)))\n",
    "\n",
    "# df_trueBeamPi0etaSigReg1=df_trueBeamPi0eta[df_trueBeamPi0eta.whichSignalRegions==1]\n",
    "# ax[1].hist2d(df_trueBeamPi0etaSigReg1.Mpi0s,df_trueBeamPi0etaSigReg1.Metas,\n",
    "#              bins=(100,100),range=[[0.08,0.2],[rangemin,rangemax]],norm=mpl.colors.LogNorm())\n",
    "# ax[1].set_title(\"nentries: \"+str(len(df_trueBeamPi0etaSigReg1)))\n",
    "\n",
    "# df_trueBeamPi0etaSigReg2=df_trueBeamPi0eta[df_trueBeamPi0eta.whichSignalRegions==2]\n",
    "# ax[2].hist2d(df_trueBeamPi0etaSigReg2.Mpi0s,df_trueBeamPi0etaSigReg2.Metas,\n",
    "#              bins=(100,100),range=[[0.08,0.2],[rangemin,rangemax]])#,norm=mpl.colors.LogNorm())\n",
    "# ax[2].set_title(\"nentries: \"+str(len(df_trueBeamPi0etaSigReg2)))\n",
    "\n",
    "# df_trueBeamPi0etaSigReg3=df_trueBeamPi0eta[df_trueBeamPi0eta.whichSignalRegions==3]\n",
    "# ax[3].hist2d(df_trueBeamPi0etaSigReg3.Mpi0s,df_trueBeamPi0etaSigReg3.Metas,\n",
    "#              bins=(100,100),range=[[0.08,0.2],[rangemin,rangemax]],norm=mpl.colors.LogNorm())\n",
    "# ax[3].set_title(\"nentries: \"+str(len(df_trueBeamPi0etaSigReg3)))\n",
    "\n",
    "# df_trueBeamPi0etaSigReg4=df_trueBeamPi0eta[df_trueBeamPi0eta.whichSignalRegions==4]\n",
    "# ax[4].hist2d(df_trueBeamPi0etaSigReg4.Mpi0s,df_trueBeamPi0etaSigReg4.Metas,\n",
    "#              bins=(100,100),range=[[0.08,0.2],[rangemin,rangemax]],norm=mpl.colors.LogNorm())\n",
    "# ax[4].set_title(\"nentries: \"+str(len(df_trueBeamPi0etaSigReg4)))\n",
    "\n",
    "# df_trueBeamPi0etaSigReg5=df_trueBeamPi0eta[df_trueBeamPi0eta.whichSignalRegions==5]\n",
    "# ax[5].hist2d(df_trueBeamPi0etaSigReg5.Mpi0s,df_trueBeamPi0etaSigReg5.Metas,\n",
    "#              bins=(100,100),range=[[0.08,0.2],[rangemin,rangemax]],norm=mpl.colors.LogNorm())\n",
    "# ax[5].set_title(\"nentries: \"+str(len(df_trueBeamPi0etaSigReg5)))\n",
    "# plt.tight_layout()\n",
    "\n",
    "# # mapping of the region to the weight.\n",
    "# mapRegionToWeight={\n",
    "#     1:1,\n",
    "#     2:0.5,\n",
    "#     3:-0.5,\n",
    "#     4:-1,\n",
    "#     5:0\n",
    "# }\n",
    "# df_weightsData.weightBS=map(mapRegionToWeight.get,np.array(df_weightsData.whichSignalRegions.values))\\"
   ]
  },
  {
   "cell_type": "markdown",
   "metadata": {},
   "source": [
    "## Old, without thinking about accidental subtraction, we compare the 3 different tracking schemes"
   ]
  },
  {
   "cell_type": "code",
   "execution_count": null,
   "metadata": {},
   "outputs": [],
   "source": [
    "# binedges=np.histogram(df_thrownData.Mpi0etas,bins=50)[1]"
   ]
  },
  {
   "cell_type": "code",
   "execution_count": null,
   "metadata": {},
   "outputs": [],
   "source": [
    "# df_weightsData[\"probWeights\"][df_weightsData[\"probWeights\"].isnull()]=0"
   ]
  },
  {
   "cell_type": "code",
   "execution_count": null,
   "metadata": {},
   "outputs": [],
   "source": [
    "# # fig,axes=plt.subplots(1,3,figsize=(18,6))\n",
    "# # ax=axes.flatten()\n",
    "\n",
    "# fig = plt.figure(figsize=(14, 10))\n",
    "# ax1= fig.add_subplot(2,3,1)\n",
    "# ax2= fig.add_subplot(2,3,2)\n",
    "# ax3= fig.add_subplot(2,3,3)\n",
    "# ax4= fig.add_subplot(2,1,2)\n",
    "\n",
    "# df_thrownDataSubset=df_thrownData[:-1]\n",
    "# df_weightsDataSubset=df_weightsData[:-1]\n",
    "\n",
    "# ax1.set_title(\"Best $\\chi^2$\")\n",
    "# df_thrownDataSubset[\"Mpi0etas\"].plot(kind=\"hist\",bins=binedges,alpha=0.3,ax=ax1)\n",
    "# df_weightsDataSubset[\"Mpi0etas\"].plot(kind=\"hist\",bins=binedges, weights=df_weightsDataSubset[\"bestChiWeights\"],\n",
    "#                                 alpha=0.3,ax=ax1)\n",
    "# ax2.set_title(\"Equal weight\")\n",
    "# df_thrownDataSubset[\"Mpi0etas\"].plot(kind=\"hist\",bins=binedges,alpha=0.3,ax=ax2)\n",
    "# df_weightsDataSubset[\"Mpi0etas\"].plot(kind=\"hist\",bins=binedges, weights=df_weightsDataSubset[\"equalWeights\"],\n",
    "#                                 alpha=0.3,ax=ax2)\n",
    "# ax3.set_title(\"Prob weight\")\n",
    "# df_thrownDataSubset[\"Mpi0etas\"].plot(kind=\"hist\",bins=binedges,alpha=0.3,ax=ax3)\n",
    "# df_weightsDataSubset[\"Mpi0etas\"].plot(kind=\"hist\",bins=binedges, weights=df_weightsDataSubset[\"probWeights\"],\n",
    "#                                 alpha=0.3,ax=ax3)\n",
    "# ax4.hist([df_weightsDataSubset[\"Mpi0etas\"],df_weightsDataSubset[\"Mpi0etas\"],df_weightsDataSubset[\"Mpi0etas\"]],\n",
    "#         weights=[df_weightsDataSubset[\"bestChiWeights\"],df_weightsDataSubset[\"equalWeights\"],\n",
    "#                  df_weightsDataSubset[\"probWeights\"]],\n",
    "#         bins=binedges,label=[\"bestChiSq\",\"equalWeights\",\"probWeights\"])\n",
    "\n",
    "# plt.legend(loc=0, prop={'size': 16})\n",
    "\n",
    "# plt.savefig(\"combinatoricStudy/onlyAcc_noCuts.png\")"
   ]
  },
  {
   "cell_type": "code",
   "execution_count": null,
   "metadata": {
    "scrolled": false
   },
   "outputs": [],
   "source": [
    "# skipFirstN=0\n",
    "\n",
    "# fig, ax = plt.subplots(3,3,figsize=(18,10))\n",
    "# ax=ax.flatten()\n",
    "# data=df_weightsData[:100]\n",
    "# print(data.eventNumber.unique())\n",
    "# count=0\n",
    "# binedges2=np.histogram(df_thrownData.Mpi0etas,bins=20)[1]\n",
    "# for ievent,event in enumerate(data.eventNumber.unique()):\n",
    "#     if ievent < skipFirstN:\n",
    "#         continue\n",
    "#     if count < 9:\n",
    "#         print(\"Filling for event {0}\".format(int(event)))\n",
    "#         dataSubset=data[data.eventNumber==event]\n",
    "#         print(sum(dataSubset.probWeights))\n",
    "#         assert(sum(dataSubset.probWeights)-1<0.0001)\n",
    "#         if(len(dataSubset)==1):\n",
    "#             continue\n",
    "#         ax[count].set_title(\"event\"+str(event))\n",
    "#         ax[count].hist([dataSubset[\"Mpi0etas\"],dataSubset[\"Mpi0etas\"],dataSubset[\"Mpi0etas\"]],\n",
    "#         weights=[dataSubset[\"bestChiWeights\"],dataSubset[\"equalWeights\"],\n",
    "#         dataSubset[\"probWeights\"]],bins=binedges2,label=[\"bestChiSq\",\"equalWeights\",\"probWeights\"])\n",
    "#         count+=1\n",
    "#     else:\n",
    "#         break"
   ]
  },
  {
   "cell_type": "code",
   "execution_count": null,
   "metadata": {},
   "outputs": [],
   "source": [
    "# fig,axes=plt.subplots(3,1,figsize=(18,12))\n",
    "# labels=[\"signal\", \"sidebands\", \"reject\"]\n",
    "# for iax,ax in enumerate(axes.flatten()):\n",
    "#     df_weightsDataSubset=df_weightsData[df_weightsData.whichSignalRegions==(iax+1)]\n",
    "#     ax.hist([df_weightsDataSubset[\"Mpi0etas\"],df_weightsDataSubset[\"Mpi0etas\"],df_weightsDataSubset[\"Mpi0etas\"]],\n",
    "#             weights=[df_weightsDataSubset[\"bestChiWeights\"],df_weightsDataSubset[\"equalWeights\"],\n",
    "#                      df_weightsDataSubset[\"probWeights\"]],\n",
    "#             bins=binedges,label=[\"bestChiSq\",\"equalWeights\",\"probWeights\"])\n",
    "#     ax.axvline(1.32,c='black',label=\"a0/a2\")\n",
    "#     ax.axvline(0.98,c='black')\n",
    "#     ax.set_title(labels[iax],size=20)\n",
    "#     ax.legend(loc=0, prop={'size': 14})"
   ]
  },
  {
   "cell_type": "code",
   "execution_count": null,
   "metadata": {},
   "outputs": [],
   "source": []
  },
  {
   "cell_type": "code",
   "execution_count": null,
   "metadata": {},
   "outputs": [],
   "source": []
  }
 ],
 "metadata": {
  "kernelspec": {
   "display_name": "Python 2",
   "language": "python",
   "name": "python2"
  },
  "language_info": {
   "codemirror_mode": {
    "name": "ipython",
    "version": 2
   },
   "file_extension": ".py",
   "mimetype": "text/x-python",
   "name": "python",
   "nbconvert_exporter": "python",
   "pygments_lexer": "ipython2",
   "version": "2.7.5"
  },
  "toc": {
   "base_numbering": 1,
   "nav_menu": {
    "height": "214.531px",
    "width": "925.764px"
   },
   "number_sections": true,
   "sideBar": true,
   "skip_h1_title": false,
   "title_cell": "Table of Contents",
   "title_sidebar": "Contents",
   "toc_cell": false,
   "toc_position": {
    "height": "874.406px",
    "left": "106px",
    "top": "110px",
    "width": "373.75px"
   },
   "toc_section_display": true,
   "toc_window_display": true
  }
 },
 "nbformat": 4,
 "nbformat_minor": 4
}
