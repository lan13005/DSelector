{
 "cells": [
  {
   "cell_type": "code",
   "execution_count": 33,
   "metadata": {},
   "outputs": [],
   "source": [
    "from ROOT import TFile\n",
    "import numpy as np\n",
    "import pandas as pd\n",
    "import matplotlib.pyplot as plt"
   ]
  },
  {
   "cell_type": "code",
   "execution_count": 34,
   "metadata": {},
   "outputs": [],
   "source": [
    "dataFile = TFile.Open(\"degALL_data_2017_mEllipsePre_treeFlat_DSelector.root\")"
   ]
  },
  {
   "cell_type": "code",
   "execution_count": 35,
   "metadata": {},
   "outputs": [],
   "source": [
    "N=50000\n",
    "eventNums = np.zeros(N,dtype=int)\n",
    "protonIDs = np.zeros(N,dtype=int)\n",
    "beamIDs = np.zeros(N,dtype=int)\n",
    "for ievent,event in enumerate(dataFile.degALL_data_2017_mEllipsePre_tree_flat):\n",
    "    if ievent < N:\n",
    "        eventNums[ievent] = event.event\n",
    "        protonIDs[ievent] = event.protonID\n",
    "        beamIDs[ievent] = event.beamID\n",
    "    else:\n",
    "        break"
   ]
  },
  {
   "cell_type": "code",
   "execution_count": 36,
   "metadata": {},
   "outputs": [],
   "source": [
    "dataDict = {\"eventNums\":eventNums,\n",
    "            \"protonIDs\":protonIDs,\n",
    "            \"beamIDs\":beamIDs\n",
    "           }"
   ]
  },
  {
   "cell_type": "code",
   "execution_count": 37,
   "metadata": {},
   "outputs": [],
   "source": [
    "data=pd.DataFrame(dataDict)"
   ]
  },
  {
   "cell_type": "code",
   "execution_count": 38,
   "metadata": {},
   "outputs": [],
   "source": [
    "uniqueProtonsPerEvent=data.groupby(\"eventNums\")[\"protonIDs\"].nunique()"
   ]
  },
  {
   "cell_type": "code",
   "execution_count": 39,
   "metadata": {},
   "outputs": [],
   "source": [
    "uniqueCombosPerEvent=data.groupby('eventNums')['protonIDs'].count()"
   ]
  },
  {
   "cell_type": "code",
   "execution_count": 41,
   "metadata": {},
   "outputs": [],
   "source": [
    "uniqueBeamsPerEvent=data.groupby(\"eventNums\")[\"beamIDs\"].nunique()"
   ]
  },
  {
   "cell_type": "code",
   "execution_count": 46,
   "metadata": {},
   "outputs": [
    {
     "data": {
      "text/plain": [
       "Text(0.5,0,'unique beam photons in event')"
      ]
     },
     "execution_count": 46,
     "metadata": {},
     "output_type": "execute_result"
    },
    {
     "data": {
      "image/png": "[encoded data removed]",
      "text/plain": [
       "<Figure size 1008x432 with 3 Axes>"
      ]
     },
     "metadata": {
      "needs_background": "light"
     },
     "output_type": "display_data"
    }
   ],
   "source": [
    "fig,ax = plt.subplots(1,3,figsize=(14,6))\n",
    "\n",
    "ax[0].hist(uniqueCombosPerEvent,bins=20)\n",
    "ax[0].set_xlabel(\"Combos in event, not necessarily unique combos\")\n",
    "\n",
    "ax[1].set_yscale(\"log\")\n",
    "ax[1].hist(uniqueProtonsPerEvent,bins=2)\n",
    "ax[1].set_xlabel(\"unique protons in event\")\n",
    "\n",
    "ax[2].hist(uniqueBeamsPerEvent,bins=10)\n",
    "ax[2].set_xlabel(\"unique beam photons in event\")"
   ]
  },
  {
   "cell_type": "code",
   "execution_count": null,
   "metadata": {},
   "outputs": [],
   "source": []
  }
 ],
 "metadata": {
  "kernelspec": {
   "display_name": "Python 2",
   "language": "python",
   "name": "python2"
  },
  "language_info": {
   "codemirror_mode": {
    "name": "ipython",
    "version": 2
   },
   "file_extension": ".py",
   "mimetype": "text/x-python",
   "name": "python",
   "nbconvert_exporter": "python",
   "pygments_lexer": "ipython2",
   "version": "2.7.5"
  }
 },
 "nbformat": 4,
 "nbformat_minor": 4
}
